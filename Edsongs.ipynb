{
 "cells": [
  {
   "cell_type": "code",
   "execution_count": 2,
   "metadata": {},
   "outputs": [],
   "source": [
    "import numpy as np\n",
    "import pandas as pd\n",
    "import random"
   ]
  },
  {
   "cell_type": "code",
   "execution_count": 3,
   "metadata": {},
   "outputs": [
    {
     "name": "stderr",
     "output_type": "stream",
     "text": [
      "Using TensorFlow backend.\n"
     ]
    }
   ],
   "source": [
    "import keras\n",
    "from keras.models import Sequential\n",
    "from keras.layers import Activation,LSTM,Dense\n",
    "from keras.optimizers import Adam"
   ]
  },
  {
   "cell_type": "code",
   "execution_count": 17,
   "metadata": {},
   "outputs": [],
   "source": [
    "ds=pd.read_csv('songdata.csv')['song']\n",
    "ds=ds[1:100]\n",
    "data=np.array(ds)"
   ]
  },
  {
   "cell_type": "code",
   "execution_count": 18,
   "metadata": {},
   "outputs": [],
   "source": [
    "txt=''\n",
    "for ix in range(len(data)):\n",
    "    txt+=data[ix]"
   ]
  },
  {
   "cell_type": "code",
   "execution_count": 19,
   "metadata": {},
   "outputs": [],
   "source": [
    "vocab=list(set(txt))\n",
    "char_ix={c:i for i,c in enumerate(vocab)}\n",
    "ix_char={i:c for i,c in enumerate(vocab)}"
   ]
  },
  {
   "cell_type": "code",
   "execution_count": 20,
   "metadata": {},
   "outputs": [],
   "source": [
    "maxlen=40\n",
    "vocab_size=len(vocab)"
   ]
  },
  {
   "cell_type": "code",
   "execution_count": 21,
   "metadata": {},
   "outputs": [],
   "source": [
    "sentences=[]\n",
    "next_char=[]\n",
    "for i in range(len(txt)-maxlen-1):\n",
    "    sentences.append(txt[i:i+maxlen])\n",
    "    next_char.append(txt[i+maxlen])    "
   ]
  },
  {
   "cell_type": "code",
   "execution_count": 22,
   "metadata": {},
   "outputs": [],
   "source": [
    "X=np.zeros((len(sentences),maxlen,vocab_size))\n",
    "y=np.zeros((len(sentences),vocab_size))\n",
    "for ix in range(len(sentences)):\n",
    "    y[ix,char_ix[next_char[ix]]]=1\n",
    "    for iy in range(maxlen):\n",
    "        X[ix,iy,char_ix[sentences[ix][iy]]]=1        "
   ]
  },
  {
   "cell_type": "code",
   "execution_count": 23,
   "metadata": {},
   "outputs": [
    {
     "name": "stdout",
     "output_type": "stream",
     "text": [
      "_________________________________________________________________\n",
      "Layer (type)                 Output Shape              Param #   \n",
      "=================================================================\n",
      "lstm_2 (LSTM)                (None, 128)               95232     \n",
      "_________________________________________________________________\n",
      "dense_2 (Dense)              (None, 57)                7353      \n",
      "_________________________________________________________________\n",
      "activation_2 (Activation)    (None, 57)                0         \n",
      "=================================================================\n",
      "Total params: 102,585\n",
      "Trainable params: 102,585\n",
      "Non-trainable params: 0\n",
      "_________________________________________________________________\n"
     ]
    }
   ],
   "source": [
    "model=Sequential()\n",
    "model.add(LSTM(128,input_shape=(maxlen,vocab_size)))\n",
    "model.add(Dense(vocab_size))\n",
    "model.add(Activation('softmax'))\n",
    "model.summary()\n",
    "model.compile(optimizer=Adam(lr=0.01),loss='categorical_crossentropy')"
   ]
  },
  {
   "cell_type": "code",
   "execution_count": 24,
   "metadata": {},
   "outputs": [
    {
     "name": "stdout",
     "output_type": "stream",
     "text": [
      "Epoch 1/20\n",
      "1563/1563 [==============================] - 3s 2ms/step - loss: 3.5889\n",
      "Epoch 2/20\n",
      "1563/1563 [==============================] - 1s 759us/step - loss: 3.3980\n",
      "Epoch 3/20\n",
      "1563/1563 [==============================] - 1s 728us/step - loss: 3.2754\n",
      "Epoch 4/20\n",
      "1563/1563 [==============================] - 1s 727us/step - loss: 3.0145\n",
      "Epoch 5/20\n",
      "1563/1563 [==============================] - 1s 723us/step - loss: 2.7179\n",
      "Epoch 6/20\n",
      "1563/1563 [==============================] - 1s 712us/step - loss: 2.5120\n",
      "Epoch 7/20\n",
      "1563/1563 [==============================] - 1s 736us/step - loss: 2.3383\n",
      "Epoch 8/20\n",
      "1563/1563 [==============================] - 1s 741us/step - loss: 2.1957\n",
      "Epoch 9/20\n",
      "1563/1563 [==============================] - 1s 777us/step - loss: 2.0218\n",
      "Epoch 10/20\n",
      "1563/1563 [==============================] - 1s 723us/step - loss: 1.8480\n",
      "Epoch 11/20\n",
      "1563/1563 [==============================] - 1s 728us/step - loss: 1.6963\n",
      "Epoch 12/20\n",
      "1563/1563 [==============================] - 1s 733us/step - loss: 1.5269\n",
      "Epoch 13/20\n",
      "1563/1563 [==============================] - 1s 738us/step - loss: 1.3758\n",
      "Epoch 14/20\n",
      "1563/1563 [==============================] - 1s 724us/step - loss: 1.1672\n",
      "Epoch 15/20\n",
      "1563/1563 [==============================] - 1s 786us/step - loss: 1.0334\n",
      "Epoch 16/20\n",
      "1563/1563 [==============================] - 1s 726us/step - loss: 0.8924\n",
      "Epoch 17/20\n",
      "1563/1563 [==============================] - 1s 725us/step - loss: 0.7809\n",
      "Epoch 18/20\n",
      "1563/1563 [==============================] - 1s 735us/step - loss: 0.6675\n",
      "Epoch 19/20\n",
      "1563/1563 [==============================] - 1s 728us/step - loss: 0.5248\n",
      "Epoch 20/20\n",
      "1563/1563 [==============================] - 1s 729us/step - loss: 0.4723\n"
     ]
    },
    {
     "data": {
      "text/plain": [
       "<keras.callbacks.History at 0x7f6babf3b0b8>"
      ]
     },
     "execution_count": 24,
     "metadata": {},
     "output_type": "execute_result"
    }
   ],
   "source": [
    "model.fit(X,y,epochs=20,batch_size=128)"
   ]
  },
  {
   "cell_type": "code",
   "execution_count": 25,
   "metadata": {},
   "outputs": [],
   "source": [
    "generated=''\n",
    "start_index=random.randint(0,len(txt)-maxlen-1)\n",
    "sent=txt[start_index:start_index+maxlen]\n",
    "generated+=sent\n",
    "for i in range(1900):\n",
    "    x_sample=generated[i:i+maxlen]\n",
    "    x=np.zeros((1,maxlen,vocab_size))\n",
    "    for j in range(maxlen):\n",
    "        x[0,j,char_ix[x_sample[j]]]=1\n",
    "    probs=model.predict(x)\n",
    "    probs=np.reshape(probs,probs.shape[1])\n",
    "    ix=np.random.choice(range(vocab_size),p=probs.ravel())\n",
    "    generated+=ix_char[ix]"
   ]
  },
  {
   "cell_type": "code",
   "execution_count": 26,
   "metadata": {},
   "outputs": [
    {
     "name": "stdout",
     "output_type": "stream",
     "text": [
      "iddleEagleEvery Good ManFernandoFernando (In YouJJpert)I Waney Bone Of YouLaso-Handering S.rowDrec DeTheing Suam A DomcDimmeMigh SpanI DaCaicitarsing Is DrThal HawiceSpean Nand Is S.Shtir Sa Ling Crove CastandRiglt Of Cfoug  Of Ustors I DamaiHaelitleiII An MawineThe Pultling Gong Kong SongKosng Ou Padle Ging Singe PassinKThke I It Ald Fing Do, In The Halisifouper Nall Pustan Yor My ManNen On SOSSing A Dossa Nimd Mana.OBo Pissis I The-Miawing Siackl Pasting Through My FingersSo LingersMe Fiig Over You Mam WaidMoRieg Over Soull You Mange Ming A Dama Man(I Damm  Da, I Do, I Do, I Amd Me CiteI Da, I Dod I Do, I Do, I Do, I Do, I Do, I Do, I Tme GimmThe PielesIl SppaiOa MaThanOFing Qugerne Of The GimeTaam Wadddleobbl Yeer WotleEvery WoodliMersMam Youd Me RiigOum Ta d Passing Through Mome Dim Ou ing ling Yor Mam The MumicI On The NimeMy Ba FingerssAsGirgtle And ForeUOn A Bamm Dod  Ive)Iamer NeThe Visg ThireIEay BroldtteII'ver Heed Hew YearHeaCHanceDance II Your Whote KMowwing Love Of MeThe Kn Latt'n NingdMersLeg Sutting Svit'Roul ManFer OnOl A ChtyRight Lase Mong Thr Crt)I Take A A Ninge He DII Andrte)e Aid Is old er Usthoumr Jussan Wist SummrrPeed I I Dazy A dDamme Ging SingLove I' BuznDama A Ditit Sammr Pititi n SI Give Of Ig Ald Ol Me]Fing AngeltongtayGionDreHYothtsiviro A PithIsMe Of d Boll Eale StidBidgIsSveperThe VightoIk Tae Me Gima Ming Quedn Dam DuanOTakk  Of Masion oaP In Spanith)Frean A Due A Da, I DoI Hand MeTher Leale Of In The NaleyI A MandTwis, Of UsSutmerPasiandole Of CottonP.ing Sogh Que Mirror In The Masic SpanirorlesIs Ttas It The CityI Do, I Do, Have Was ciThe Wam RittloPegl Of MOgSold In Your Mother (DpparsYou  Wot On I  Wander (DOpar ur The CitySuzy A diightMimmer (Departure)I Wana-Hander On On Ta On Tal ManaOMing StarI A GiiidOu On YoFr (Dephe Hay Belt InDorst IsI) EasyHave Sa Situupe Didde Me MinFKnighDock MoreThe PaeicithI DaI Haw At Toe CrttrorII Domm  If Chttis Is ald I DammeraCitiThler\n"
     ]
    }
   ],
   "source": [
    "print(generated)"
   ]
  },
  {
   "cell_type": "code",
   "execution_count": null,
   "metadata": {
    "collapsed": true
   },
   "outputs": [],
   "source": []
  },
  {
   "cell_type": "code",
   "execution_count": 18,
   "metadata": {},
   "outputs": [
    {
     "name": "stdout",
     "output_type": "stream",
     "text": [
      "ith respect,\n",
      "I don't know if I'll have in my raghe of dolded buted us whone\n",
      "I'm alr sight my fided seet of me hoak home\n",
      "My mouf\n",
      "Tele skin in feem you\n",
      "\n",
      "So sore I love yesime n I see that mose the coot minding wcow Gom babounded I cin sters\n",
      "\n",
      "You yoh ougch\n",
      "I keesuge know it wand me with on ta—ighe\n",
      "Wans on thnoer of ust love\n",
      "Come on, unover you on more move me cal\n",
      "Waused our sat noo, come love your eyes\n",
      "Reipe all friend wuthoncy it fo donging, enisat so de thonee wit how I ge took upon my on'm are caf srip tike I'm of on all nys like you look Jor,\n",
      "Folon\n",
      "Jos holy come oo in vind, notr wonk the sild wish\n",
      "Whenome loves, lover let it was on a life\n",
      "And mer my swone is it cheve ow you \n",
      "Put Van you oresis'd your netion band\n",
      "Retord like a sook Docing lase, come on\n",
      "Come and hournddrickered do of ane-to lasas is forchore'r jas I waitives you hoar on a with a low you're foring yilly\n",
      "We pick from theo I elly on thatcet litilook ceope a (gitf thigh teel\n",
      "On it memsto phocceating you lerige ceenopled that's neepsionghing anni, your lantream.O for upan woted hearts usin tane is\n",
      "'Causeon my be the owinm in things is just jutt jump wothingr aig to cto gent to say and keepwhitising to my lloke same sinning thines, a say wish of on a lone\n",
      "So reere ay my thund I can it'ming me I wand love\n",
      "On the stupk we and you knowe\n",
      "For ae woube the stars filled's but knows wored up hallged one siofface is hromcout looking alonamake evelens\n",
      "I knowing on thening tronay me cking soon reer enother\n",
      "And look in your ining\n",
      "We go I brusk,, you felo you,Ne\n",
      "Sing on you know, conighs unto kn y, a morly\n",
      "I sall, wilk fro\n",
      "We'se short on tallivad to seed loved come a ones a make nene\n",
      "And put I ans to hasend in my aris my sime\n",
      "But bocker you we weead my fitey home\n",
      "We gotning felling loving of you in with check, pilecoreck backes on singingeluras\n",
      "We more coollyorightay\n",
      "We my a ler figh anot can dowow if lone,\n",
      "Witr gecoofe your own’t un lerace then yor\n",
      "Noadrounta\n"
     ]
    }
   ],
   "source": [
    "print(generated)"
   ]
  },
  {
   "cell_type": "code",
   "execution_count": null,
   "metadata": {
    "collapsed": true
   },
   "outputs": [],
   "source": []
  },
  {
   "cell_type": "code",
   "execution_count": 33,
   "metadata": {},
   "outputs": [
    {
     "name": "stdout",
     "output_type": "stream",
     "text": [
      "dn't have f*cked with your mind\n",
      "And your love\n",
      "\n",
      "\n",
      "\n",
      "\n",
      "Town now, anothel and souls from the thun\n",
      "tell you whone\n",
      "No, it loved you\n",
      "\n",
      "So love you kiss me, I didn’t wanna know and my part's bord\n",
      "I sat something brand nit car it to in love with your body\n",
      "I love you, My ye, forlve could trape time\n",
      "Calling something the way within\n",
      "Make me inside our your mouth\n",
      "You can loved\n",
      "Came your waying with you loo\n",
      "day getting home\n",
      "Home babovs take ainat that everybodigafe me too wishou\n",
      "\n",
      "\n",
      "But told me that in tonight.\n",
      "And I hove you bothough so mian, black in the tputh\n",
      "Resming to pervain\n",
      "\n",
      "And wanna know when you, shid my drce maded alroak\n",
      "Mayching than love high\n",
      "When the will weeksing in out of my arms\n",
      "Signt my thun lovign but been set Mary my all to gems\n",
      "And I guess Makerit into this be lovin\n",
      "\n",
      "\n",
      "But I waithered that you know wanin light\n",
      "It a fire anoplit proknticr\n",
      "Down baby lox\n",
      "Are the changer fill look nim\n",
      "\n",
      "It was go\n",
      "All by the collaget, stould, while rehorete\n",
      "Drinken I wanna know have day to the soop a find give and rive you a fill tall we’ll make it wanna life me\n",
      "\n",
      "\n",
      "\n",
      "\n",
      "\n",
      "I'se live you soon like me of\n",
      "Aft to semelle’l your love\n",
      "\n",
      "And they wish all by mysmer cashire\n",
      "And new my way wife and drink burten\n",
      "She timeve we were I known hide of it tit in my myme fasters\n",
      "In to when you love with as ople fall comine\n",
      "But getting thrond\n",
      "One was I’ll loved my love, lave again\n",
      "Butishore of my be wrythings  allat that have find\n",
      "So your loved\n",
      "\n",
      "Give it rain\n",
      "Shean it back\n",
      "But it wanna did I Dlougl quick\n",
      "Eanne whollass\n",
      "jeay this faithes in out off withouM\n",
      "Marcet of the and tell yax picthers I'll never broke Jack\n",
      "And just loved my have though\n",
      "Don’t you just’s thouga\n",
      "Tear the love, so sagright\n",
      "\n",
      "You could stmen breaks over her)\n",
      "I fadding to say crovor, gettle of all to ever come for me\n",
      "Inside time wanna know about my making to heres\n",
      "But it I things were and my arms\n",
      "Kies, there whon my broken to die\n",
      "We peotier Over fallowhering the rordy buth my \n"
     ]
    }
   ],
   "source": [
    "print generated"
   ]
  },
  {
   "cell_type": "code",
   "execution_count": null,
   "metadata": {
    "collapsed": true
   },
   "outputs": [],
   "source": []
  },
  {
   "cell_type": "code",
   "execution_count": null,
   "metadata": {
    "collapsed": true
   },
   "outputs": [],
   "source": []
  },
  {
   "cell_type": "code",
   "execution_count": null,
   "metadata": {
    "collapsed": true
   },
   "outputs": [],
   "source": []
  },
  {
   "cell_type": "code",
   "execution_count": null,
   "metadata": {
    "collapsed": true
   },
   "outputs": [],
   "source": []
  },
  {
   "cell_type": "code",
   "execution_count": null,
   "metadata": {
    "collapsed": true
   },
   "outputs": [],
   "source": []
  },
  {
   "cell_type": "code",
   "execution_count": null,
   "metadata": {
    "collapsed": true
   },
   "outputs": [],
   "source": []
  },
  {
   "cell_type": "code",
   "execution_count": null,
   "metadata": {
    "collapsed": true
   },
   "outputs": [],
   "source": []
  },
  {
   "cell_type": "code",
   "execution_count": null,
   "metadata": {
    "collapsed": true
   },
   "outputs": [],
   "source": []
  },
  {
   "cell_type": "code",
   "execution_count": null,
   "metadata": {
    "collapsed": true
   },
   "outputs": [],
   "source": []
  },
  {
   "cell_type": "code",
   "execution_count": null,
   "metadata": {
    "collapsed": true
   },
   "outputs": [],
   "source": []
  },
  {
   "cell_type": "code",
   "execution_count": null,
   "metadata": {
    "collapsed": true
   },
   "outputs": [],
   "source": []
  },
  {
   "cell_type": "code",
   "execution_count": null,
   "metadata": {
    "collapsed": true
   },
   "outputs": [],
   "source": []
  }
 ],
 "metadata": {
  "anaconda-cloud": {},
  "kernelspec": {
   "display_name": "Python 2",
   "language": "python",
   "name": "python2"
  },
  "language_info": {
   "codemirror_mode": {
    "name": "ipython",
    "version": 3
   },
   "file_extension": ".py",
   "mimetype": "text/x-python",
   "name": "python",
   "nbconvert_exporter": "python",
   "pygments_lexer": "ipython3",
   "version": "3.5.2"
  }
 },
 "nbformat": 4,
 "nbformat_minor": 2
}
